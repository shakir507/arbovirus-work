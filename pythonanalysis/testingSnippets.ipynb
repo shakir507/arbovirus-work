{
 "cells": [
  {
   "cell_type": "code",
   "execution_count": 2,
   "metadata": {},
   "outputs": [],
   "source": [
    "import networkx as nx\n",
    "import numpy as np\n",
    "import pandas as pd\n",
    "import os"
   ]
  },
  {
   "cell_type": "code",
   "execution_count": 7,
   "metadata": {},
   "outputs": [],
   "source": [
    "def SetinitialConditions(nt,centrality,degree,node_names):\n",
    "    nodecentrality={}\n",
    "    nodedegree={}\n",
    "    for nd in node_names:\n",
    "        nodecentrality[nd]=centrality[nt][nd]\n",
    "        nodedegree[nd]=degree[nt][nd]\n",
    "    \n",
    "    return I,PIH"
   ]
  },
  {
   "cell_type": "code",
   "execution_count": 41,
   "metadata": {},
   "outputs": [],
   "source": [
    "Nodes=11\n",
    "I=[0]*Nodes\n",
    "PIH=[0]*Nodes\n",
    "psm=0.1\n",
    "k=4\n",
    "NetworkTypes=[\"SmallWorld\",\"Random\",\"ScaleFree\",\"ScaleFreeConfigurationModel\"]\n",
    "nt=NetworkTypes[0]\n",
    "degree={}\n",
    "centrality={}\n",
    "\n",
    "G=nx.watts_strogatz_graph(Nodes, k, psm)\n",
    "degree[nt]=G.degree()\n",
    "centrality[nt]=nx.betweenness_centrality(G)\n",
    "\n",
    "node_names = list(G.nodes())\n"
   ]
  },
  {
   "cell_type": "code",
   "execution_count": 42,
   "metadata": {},
   "outputs": [],
   "source": [
    "nodecentrality={}\n",
    "nodedegree={}\n",
    "for nd in node_names:\n",
    "    nodecentrality[nd]=centrality[nt][nd]\n",
    "    nodedegree[nd]=degree[nt][nd]"
   ]
  },
  {
   "cell_type": "code",
   "execution_count": 43,
   "metadata": {},
   "outputs": [],
   "source": [
    "sorted_nodes_by_degree = (sorted(nodedegree.items(), key=lambda x:x[1]))"
   ]
  },
  {
   "cell_type": "code",
   "execution_count": 85,
   "metadata": {},
   "outputs": [
    {
     "data": {
      "text/plain": [
       "[(8, 3),\n",
       " (0, 4),\n",
       " (1, 4),\n",
       " (2, 4),\n",
       " (4, 4),\n",
       " (5, 4),\n",
       " (6, 4),\n",
       " (7, 4),\n",
       " (9, 4),\n",
       " (10, 4),\n",
       " (3, 5)]"
      ]
     },
     "execution_count": 85,
     "metadata": {},
     "output_type": "execute_result"
    }
   ],
   "source": [
    "sorted(nodedegree.items(), key=lambda x:x[1])"
   ]
  },
  {
   "cell_type": "code",
   "execution_count": 89,
   "metadata": {},
   "outputs": [
    {
     "data": {
      "text/plain": [
       "0.844537770782512"
      ]
     },
     "execution_count": 89,
     "metadata": {},
     "output_type": "execute_result"
    }
   ],
   "source": [
    "np.random.random()"
   ]
  },
  {
   "cell_type": "code",
   "execution_count": 51,
   "metadata": {},
   "outputs": [],
   "source": [
    "Ir=list(np.random.randint(1,100,Nodes))\n",
    "Ir=sorted(Ir)"
   ]
  },
  {
   "cell_type": "code",
   "execution_count": 55,
   "metadata": {},
   "outputs": [],
   "source": [
    "for i in range(Nodes):\n",
    "    I[sorted_nodes_by_degree[i][0]]=Ir[i]"
   ]
  },
  {
   "cell_type": "code",
   "execution_count": 58,
   "metadata": {},
   "outputs": [
    {
     "data": {
      "text/plain": [
       "2"
      ]
     },
     "execution_count": 58,
     "metadata": {},
     "output_type": "execute_result"
    }
   ],
   "source": [
    "Ir[0]"
   ]
  },
  {
   "cell_type": "code",
   "execution_count": null,
   "metadata": {},
   "outputs": [],
   "source": []
  }
 ],
 "metadata": {
  "kernelspec": {
   "display_name": "abm-simul-py39",
   "language": "python",
   "name": "python3"
  },
  "language_info": {
   "codemirror_mode": {
    "name": "ipython",
    "version": 3
   },
   "file_extension": ".py",
   "mimetype": "text/x-python",
   "name": "python",
   "nbconvert_exporter": "python",
   "pygments_lexer": "ipython3",
   "version": "3.10.4"
  },
  "orig_nbformat": 4
 },
 "nbformat": 4,
 "nbformat_minor": 2
}
